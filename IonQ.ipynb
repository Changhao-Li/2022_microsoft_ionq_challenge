{
 "cells": [
  {
   "cell_type": "markdown",
   "metadata": {},
   "source": [
    "## Quantum prisoners:Implementing quantum game theory with trapped ions\n",
    "### Changhao Li, Wenchao Xu, Guoqing Wang\n",
    "#### Masachusetts Institute of Technology, 2022 Jan\n",
    "### changhao@mit.edu"
   ]
  },
  {
   "cell_type": "markdown",
   "metadata": {},
   "source": [
    "Reference: \n",
    "Phys. Rev. Lett. 88, 137902 (2002)\n",
    "\n",
    "J. Phys. A: Math. Gen. 36 (2003) 6551–6562\n",
    "\n",
    "New J. Phys. 12 063031 （2010）\n",
    "\n",
    "Quantum Information Processing (2018) 17:309"
   ]
  },
  {
   "cell_type": "code",
   "execution_count": 1,
   "metadata": {},
   "outputs": [],
   "source": [
    "from qiskit import QuantumCircuit, ClassicalRegister, QuantumRegister, transpile\n",
    "from qiskit.visualization import plot_histogram\n",
    "from qiskit.tools.monitor import job_monitor\n",
    "from azure.quantum.qiskit import AzureQuantumProvider"
   ]
  },
  {
   "cell_type": "code",
   "execution_count": 2,
   "metadata": {},
   "outputs": [],
   "source": [
    "import numpy as np\n",
    "from math import pi\n",
    "import math\n",
    "import matplotlib.pyplot as plt\n",
    "from qiskit import BasicAer\n",
    "from qiskit.quantum_info.operators import Operator"
   ]
  },
  {
   "cell_type": "code",
   "execution_count": 3,
   "metadata": {},
   "outputs": [],
   "source": [
    "provider = AzureQuantumProvider(\n",
    "  resource_id=\"/subscriptions/b1d7f7f8-743f-458e-b3a0-3e09734d716d/resourceGroups/aq-hackathons/providers/Microsoft.Quantum/Workspaces/aq-hackathon-01\",\n",
    "  location=\"East US\"\n",
    ")"
   ]
  },
  {
   "cell_type": "code",
   "execution_count": 4,
   "metadata": {},
   "outputs": [
    {
     "name": "stdout",
     "output_type": "stream",
     "text": [
      "['ionq.qpu', 'ionq.simulator']\n"
     ]
    }
   ],
   "source": [
    "print([backend.name() for backend in provider.backends()])"
   ]
  },
  {
   "cell_type": "code",
   "execution_count": 5,
   "metadata": {},
   "outputs": [],
   "source": [
    "qasm_backend = BasicAer.get_backend('qasm_simulator')\n",
    "simulator_backend = provider.get_backend(\"ionq.simulator\")"
   ]
  },
  {
   "cell_type": "markdown",
   "metadata": {},
   "source": [
    "## Creation of circuit"
   ]
  },
  {
   "cell_type": "code",
   "execution_count": 67,
   "metadata": {},
   "outputs": [
    {
     "data": {
      "text/html": [
       "<pre style=\"word-wrap: normal;white-space: pre;background: #fff0;line-height: 1.1;font-family: &quot;Courier New&quot;,Courier,monospace\">        ┌────────┐     ┌────┐    ┌──────────┐                   ┌────┐   »\n",
       "q751_0: ┤ Rz(-π) ├─────┤ √X ├────┤ Rz(-π/2) ├─────────────■─────┤ √X ├───»\n",
       "        └─┬────┬─┘┌────┴────┴───┐└──┬────┬──┘┌─────────┐┌─┴─┐┌──┴────┴──┐»\n",
       "q751_1: ──┤ √X ├──┤ Rz(-3.1403) ├───┤ √X ├───┤ Rz(π/2) ├┤ X ├┤ Rz(-π/2) ├»\n",
       "          └────┘  └─────────────┘   └────┘   └─────────┘└───┘└──────────┘»\n",
       " c47: 2/═════════════════════════════════════════════════════════════════»\n",
       "                                                                         »\n",
       "«        ┌────────┐                     \n",
       "«q751_0: ┤ Rz(-π) ├─────────────────────\n",
       "«        └─┬────┬─┘┌─────────────┐┌────┐\n",
       "«q751_1: ──┤ √X ├──┤ Rz(-1.5695) ├┤ √X ├\n",
       "«          └────┘  └─────────────┘└────┘\n",
       "« c47: 2/═══════════════════════════════\n",
       "«                                       </pre>"
      ],
      "text/plain": [
       "        ┌────────┐     ┌────┐    ┌──────────┐                   ┌────┐   »\n",
       "q751_0: ┤ Rz(-π) ├─────┤ √X ├────┤ Rz(-π/2) ├─────────────■─────┤ √X ├───»\n",
       "        └─┬────┬─┘┌────┴────┴───┐└──┬────┬──┘┌─────────┐┌─┴─┐┌──┴────┴──┐»\n",
       "q751_1: ──┤ √X ├──┤ Rz(-3.1403) ├───┤ √X ├───┤ Rz(π/2) ├┤ X ├┤ Rz(-π/2) ├»\n",
       "          └────┘  └─────────────┘   └────┘   └─────────┘└───┘└──────────┘»\n",
       " c47: 2/═════════════════════════════════════════════════════════════════»\n",
       "                                                                         »\n",
       "«        ┌────────┐                     \n",
       "«q751_0: ┤ Rz(-π) ├─────────────────────\n",
       "«        └─┬────┬─┘┌─────────────┐┌────┐\n",
       "«q751_1: ──┤ √X ├──┤ Rz(-1.5695) ├┤ √X ├\n",
       "«          └────┘  └─────────────┘└────┘\n",
       "« c47: 2/═══════════════════════════════\n",
       "«                                       "
      ]
     },
     "execution_count": 67,
     "metadata": {},
     "output_type": "execute_result"
    }
   ],
   "source": [
    "# Create a Quantum Circuit acting on the q register\n",
    "q = QuantumRegister(2)\n",
    "c = ClassicalRegister(2)\n",
    "\n",
    "gamma = pi/4  #gamma=0 (1) corresponds to seperable (maximal entangled) states.\n",
    "circuit = QuantumCircuit(q,c)\n",
    "circuit.name = \"2players\"\n",
    "\n",
    "Jmatrix = Operator([[np.cos(gamma/2),0,0,-1j*np.sin(gamma/2)],[0,np.cos(gamma/2),1j*np.sin(gamma/2),0],[0,1j*np.sin(gamma/2),np.cos(gamma/2),0],[-1j*np.sin(gamma/2),0,0,np.cos(gamma/2)]])\n",
    "Jinverse = Jmatrix.adjoint()\n",
    "\n",
    "circuit.append(Jmatrix,[q[0],q[1]])\n",
    "circuit.append(Q,[q[0]])\n",
    "circuit.append(D,[q[1]])\n",
    "circuit.append(Jinverse,[q[0],q[1]])  \n",
    "circuit = transpile(circuit,qasm_backend,basis_gates=['id','sx','cx','rz','x','y','z'],optimization_level=3)\n",
    "circuit.measure(q,c)\n",
    "\n",
    "circuit.draw()"
   ]
  },
  {
   "cell_type": "code",
   "execution_count": 59,
   "metadata": {},
   "outputs": [
    {
     "data": {
      "text/plain": [
       "array([[ 0.+0.j,  0.+0.j,  0.+1.j,  0.+0.j],\n",
       "       [ 0.+0.j,  0.+0.j,  0.+0.j, -0.-1.j],\n",
       "       [-0.-1.j,  0.+0.j,  0.+0.j,  0.+0.j],\n",
       "       [ 0.+0.j,  0.+1.j,  0.+0.j,  0.+0.j]])"
      ]
     },
     "execution_count": 59,
     "metadata": {},
     "output_type": "execute_result"
    }
   ],
   "source": [
    "## uncomment the text below to get the effective unitary evolution matrix\n",
    "## note that circuit.measure(q,c) should not be included to compute the following unitary\n",
    "\n",
    "#backend = BasicAer.get_backend('unitary_simulator')\n",
    "#job = backend.run(transpile(circuit, backend))\n",
    "#job.result().get_unitary(circuit, decimals=3)"
   ]
  },
  {
   "cell_type": "markdown",
   "metadata": {},
   "source": [
    "we next simuate the above circuit using the simulator backend."
   ]
  },
  {
   "cell_type": "code",
   "execution_count": 13,
   "metadata": {},
   "outputs": [
    {
     "name": "stdout",
     "output_type": "stream",
     "text": [
      "Job id fadb4b38-8159-11ec-9240-38f9d3315497\n",
      "Job Status: job has successfully run\n"
     ]
    }
   ],
   "source": [
    "job = simulator_backend.run(circuit, shots=100)\n",
    "job_id = job.id()\n",
    "print(\"Job id\", job_id)\n",
    "job_monitor(job)"
   ]
  },
  {
   "cell_type": "code",
   "execution_count": 14,
   "metadata": {},
   "outputs": [
    {
     "name": "stdout",
     "output_type": "stream",
     "text": [
      "Result(backend_name='ionq.simulator', backend_version='1', qobj_id='2players', job_id='fadb4b38-8159-11ec-9240-38f9d3315497', success=True, results=[ExperimentResult(shots=100, success=True, meas_level=2, data=ExperimentResultData(counts=defaultdict(<class 'int'>, {'10': 100}), probabilities=defaultdict(<class 'int'>, {'10': 1})), header=QobjExperimentHeader(meas_map='[0, 1]', name='2players', num_qubits='2', qiskit='True'))])\n",
      "{'00': 0, '01': 0, '10': 100, '11': 0}\n"
     ]
    },
    {
     "data": {
      "image/png": "[encoded data removed]",
      "text/plain": [
       "<Figure size 504x360 with 1 Axes>"
      ]
     },
     "execution_count": 14,
     "metadata": {},
     "output_type": "execute_result"
    }
   ],
   "source": [
    "result = job.result()\n",
    "type(result)\n",
    "print(result)\n",
    "counts = {format(n, \"02b\"): 0 for n in range(4)}\n",
    "counts.update(result.get_counts(circuit))\n",
    "print(counts)\n",
    "plot_histogram(counts)"
   ]
  },
  {
   "cell_type": "markdown",
   "metadata": {},
   "source": [
    "## Run simulations"
   ]
  },
  {
   "cell_type": "code",
   "execution_count": null,
   "metadata": {},
   "outputs": [],
   "source": [
    "## define the unitary evolution matrix for a single qubit\n",
    "def unitary(theta,phi):\n",
    "    return Operator([[np.exp(1j*phi)*np.cos(theta/2),np.sin(theta/2)],[-np.sin(theta/2),np.exp(-1j*phi)*np.cos(theta/2)]])\n",
    "Q = unitary(0,np.pi/2)\n",
    "D = unitary(np.pi,0)\n"
   ]
  },
  {
   "cell_type": "code",
   "execution_count": null,
   "metadata": {},
   "outputs": [],
   "source": [
    "## define the function for simulation\n",
    "\n",
    "def prob_simu(gamma,shots,strategy,if_draw_circuit):\n",
    "    ## gamma: the target entangled state that one creates with Jmatrix\n",
    "    ## shots: number of shots in simulator backend\n",
    "    ## strategy: local operations performed by Alice (q[0]) and Bob (q[1])\n",
    "    ## if_draw_circuit: option to draw the cirucuit\n",
    "    ## Return a list of number of shots in the computational basis of the qubits.\n",
    "    \n",
    "    q = QuantumRegister(2)\n",
    "    c = ClassicalRegister(2)\n",
    "\n",
    "    circuit = QuantumCircuit(q,c)\n",
    "    circuit.name = \"2players\"\n",
    "    \n",
    "    Jmatrix = Operator([[np.cos(gamma/2),0,0,-1j*np.sin(gamma/2)],[0,np.cos(gamma/2),1j*np.sin(gamma/2),0],[0,1j*np.sin(gamma/2),np.cos(gamma/2),0],[-1j*np.sin(gamma/2),0,0,np.cos(gamma/2)]])\n",
    "    Jtemp = Jmatrix.transpose()\n",
    "    Jinverse = Jtemp.conjugate()\n",
    "\n",
    "    circuit.append(Jmatrix,[q[0],q[1]])\n",
    "\n",
    "    if strategy == 'QD':\n",
    "        circuit.append(Q,[q[0]]);circuit.append(D,[q[1]]) # operation Q+D in Du's RPL\n",
    "    if strategy == 'DD':\n",
    "        circuit.append(D,[q[0]]);circuit.append(D,[q[1]]) # operation D+D in Du's RPL\n",
    "    if strategy == 'QQ':\n",
    "        circuit.append(Q,[q[0]]);circuit.append(Q,[q[1]]) # operation Q+Q in Du's RPL\n",
    "    \n",
    "    circuit.append(Jinverse,[q[0],q[1]])\n",
    "    \n",
    "\n",
    "    circuit = transpile(circuit,qasm_backend,basis_gates=['id','sx','cx','rz','x'],optimization_level=3)\n",
    "    circuit.measure(q,c)\n",
    "    if if_draw_circuit==1: \n",
    "        circuit.draw()\n",
    "        \n",
    "    job = simulator_backend.run(circuit, shots=100)\n",
    "    job_id = job.id()\n",
    "    #print(\"Job id\", job_id)\n",
    "    job_monitor(job)\n",
    "    \n",
    "    result = job.result()\n",
    "    counts = {format(n, \"02b\"): 0 for n in range(4)}\n",
    "    counts.update(result.get_counts(circuit))\n",
    "    plot_histogram(counts)  \n",
    "    \n",
    "    return list(counts.values())"
   ]
  },
  {
   "cell_type": "code",
   "execution_count": 71,
   "metadata": {},
   "outputs": [
    {
     "name": "stdout",
     "output_type": "stream",
     "text": [
      "Job Status: job has successfully run\n",
      "[0, 0, 100, 0]\n",
      "Job Status: job has successfully run\n",
      "[0, 0, 99, 0]\n",
      "Job Status: job has successfully run\n",
      "[0, 2, 97, 0]\n",
      "Job Status: job has successfully run\n",
      "[0, 5, 94, 0]\n",
      "Job Status: job has successfully run\n",
      "[0, 9, 90, 0]\n",
      "Job Status: job has successfully run\n",
      "[0, 14, 85, 0]\n",
      "Job Status: job has successfully run\n",
      "[0, 20, 79, 0]\n",
      "Job Status: job has successfully run\n",
      "[0, 27, 72, 0]\n",
      "Job Status: job has successfully run\n",
      "[0, 34, 65, 0]\n",
      "Job Status: job has successfully run\n",
      "[0, 42, 57, 0]\n",
      "Job Status: job has successfully run\n",
      "[0, 50, 50, 0]\n",
      "Job Status: job has successfully run\n",
      "[0, 57, 42, 0]\n",
      "Job Status: job has successfully run\n",
      "[0, 65, 34, 0]\n",
      "Job Status: job has successfully run\n",
      "[0, 72, 27, 0]\n",
      "Job Status: job has successfully run\n",
      "[0, 79, 20, 0]\n",
      "Job Status: job has successfully run\n",
      "[0, 85, 14, 0]\n",
      "Job Status: job has successfully run\n",
      "[0, 90, 9, 0]\n",
      "Job Status: job has successfully run\n",
      "[0, 94, 5, 0]\n",
      "Job Status: job has successfully run\n",
      "[0, 97, 2, 0]\n",
      "Job Status: job has successfully run\n",
      "[0, 99, 0, 0]\n",
      "Job Status: job has successfully run\n",
      "[0, 100, 0, 0]\n"
     ]
    }
   ],
   "source": [
    "if_draw_circuit = 1\n",
    "shots = 100\n",
    "strategy = 'QD'\n",
    "\n",
    "gamma_list = np.linspace(0,pi/2,21)\n",
    "result_list = []\n",
    "for gamma in gamma_list:\n",
    "    tmp= prob_simu(gamma,shots,strategy, if_draw_circuit)\n",
    "    print(tmp)\n",
    "    result_list.append(tmp)"
   ]
  },
  {
   "cell_type": "code",
   "execution_count": 84,
   "metadata": {},
   "outputs": [
    {
     "name": "stderr",
     "output_type": "stream",
     "text": [
      "No artists with labels found to put in legend.  Note that artists whose label start with an underscore are ignored when legend() is called with no argument.\n"
     ]
    },
    {
     "data": {
      "text/plain": [
       "<matplotlib.legend.Legend at 0x152298590>"
      ]
     },
     "execution_count": 84,
     "metadata": {},
     "output_type": "execute_result"
    },
    {
     "data": {
      "image/png": "[encoded data removed]",
      "text/plain": [
       "<Figure size 432x288 with 1 Axes>"
      ]
     },
     "metadata": {
      "needs_background": "light"
     },
     "output_type": "display_data"
    }
   ],
   "source": [
    "res = np.array(result_list).T.tolist()\n",
    "plt.figure()\n",
    "plt.plot(gamma_list,res[1],'.')\n",
    "plt.xlabel('\\gamma')\n",
    "plt.legend()"
   ]
  },
  {
   "cell_type": "markdown",
   "metadata": {},
   "source": [
    "# IonQ implementation"
   ]
  },
  {
   "cell_type": "code",
   "execution_count": 9,
   "metadata": {},
   "outputs": [],
   "source": [
    "def prob_ionQ(gamma,shots,strategy):\n",
    "    \n",
    "    ## gamma: the target entangled state that one creates with Jmatrix\n",
    "    ## shots: number of shots in simulator backend (dummy variable here)\n",
    "    ## strategy: local operations performed by Alice (q[0]) and Bob (q[1])\n",
    "    ## Return a list of number of shots in the computational basis of the qubits.\n",
    "    \n",
    "    q = QuantumRegister(2)\n",
    "    c = ClassicalRegister(2)\n",
    "\n",
    "    circuit = QuantumCircuit(q,c)\n",
    "    circuit.name = \"2players\"\n",
    "    \n",
    "    Jmatrix = Operator([[np.cos(gamma/2),0,0,-1j*np.sin(gamma/2)],[0,np.cos(gamma/2),1j*np.sin(gamma/2),0],[0,1j*np.sin(gamma/2),np.cos(gamma/2),0],[-1j*np.sin(gamma/2),0,0,np.cos(gamma/2)]])\n",
    "    Jtemp = Jmatrix.transpose()\n",
    "    Jinverse = Jtemp.conjugate()\n",
    "\n",
    "    circuit.append(Jmatrix,[q[0],q[1]])\n",
    "\n",
    "    if strategy == 'QD':\n",
    "        circuit.append(Q,[q[0]]);circuit.append(D,[q[1]]) # operation Q+D in Du's RPL\n",
    "    if strategy == 'DD':\n",
    "        circuit.append(D,[q[0]]);circuit.append(D,[q[1]]) # operation D+D in Du's RPL\n",
    "    if strategy == 'QQ':\n",
    "        circuit.append(Q,[q[0]]);circuit.append(Q,[q[1]]) # operation Q+Q in Du's RPL\n",
    "    \n",
    "    circuit.append(Jinverse,[q[0],q[1]])\n",
    "    \n",
    "\n",
    "    circuit = transpile(circuit,qasm_backend,basis_gates=['id','sx','cx','rz','x'],optimization_level=3)\n",
    "    circuit.measure(q,c) \n",
    "    circuit.draw()\n",
    "        \n",
    "    job = qpu_backend.run(circuit, shots=512)\n",
    "    job_id = job.id()\n",
    "    #print(\"Job id\", job_id)\n",
    "    job_monitor(job)\n",
    "    \n",
    "    result = job.result()\n",
    "    counts = {format(n, \"02b\"): 0 for n in range(4)}\n",
    "    counts.update(result.get_counts(circuit))\n",
    "    plot_histogram(counts)   \n",
    "    return list(counts.values())"
   ]
  },
  {
   "cell_type": "code",
   "execution_count": 10,
   "metadata": {},
   "outputs": [
    {
     "name": "stdout",
     "output_type": "stream",
     "text": [
      "0.15707963267948966\n",
      "Job Status: job has successfully run\n",
      "[7, 30, 458, 17]\n",
      "0.3141592653589793\n",
      "Job Status: job has successfully run\n",
      "[6, 78, 409, 19]\n",
      "0.47123889803846897\n",
      "Job Status: job has successfully run\n",
      "[5, 114, 357, 36]\n",
      "0.6283185307179586\n",
      "Job Status: job has successfully run\n",
      "[25, 190, 285, 12]\n",
      "0.7853981633974483\n",
      "Job Status: job has successfully run\n",
      "[9, 193, 299, 11]\n",
      "0.9424777960769379\n",
      "Job Status: job has successfully run\n",
      "[12, 280, 209, 11]\n",
      "1.0995574287564276\n",
      "Job Status: job has successfully run\n",
      "[9, 355, 144, 4]\n",
      "1.2566370614359172\n",
      "Job Status: job has successfully run\n",
      "[14, 404, 93, 1]\n",
      "1.413716694115407\n",
      "Job Status: job has successfully run\n",
      "[13, 469, 28, 2]\n",
      "1.5707963267948966\n",
      "Job Status: job has successfully run\n",
      "[2, 510, 0, 0]\n"
     ]
    }
   ],
   "source": [
    "qpu_backend = provider.get_backend(\"ionq.qpu\")\n",
    "\n",
    "\n",
    "## run for strategy QD\n",
    "\n",
    "if_draw_circuit = 1\n",
    "shots = 100\n",
    "strategy = 'QD'\n",
    "\n",
    "gamma_list = np.linspace(pi/2/10,pi/2,10)\n",
    "result_list = []\n",
    "for gamma in gamma_list:\n",
    "    print(gamma)\n",
    "    tmp= prob_ionQ(gamma,shots,strategy)\n",
    "    print(tmp)\n",
    "    result_list.append(tmp)"
   ]
  },
  {
   "cell_type": "code",
   "execution_count": 11,
   "metadata": {},
   "outputs": [
    {
     "name": "stdout",
     "output_type": "stream",
     "text": [
      "[[7, 6, 5, 25, 9, 12, 9, 14, 13, 2], [30, 78, 114, 190, 193, 280, 355, 404, 469, 510], [458, 409, 357, 285, 299, 209, 144, 93, 28, 0], [17, 19, 36, 12, 11, 11, 4, 1, 2, 0]]\n"
     ]
    }
   ],
   "source": [
    "QD_res = np.array(result_list).T.tolist()\n",
    "print(QD_res)"
   ]
  },
  {
   "cell_type": "code",
   "execution_count": 12,
   "metadata": {},
   "outputs": [
    {
     "name": "stdout",
     "output_type": "stream",
     "text": [
      "0.0\n",
      "Job Status: job has successfully run\n",
      "[510, 1, 1, 0]\n",
      "0.15707963267948966\n",
      "Job Status: job has successfully run\n",
      "[508, 2, 2, 0]\n",
      "0.3141592653589793\n",
      "Job Status: job has successfully run\n",
      "[509, 2, 1, 0]\n",
      "0.47123889803846897\n",
      "Job Status: job has successfully run\n",
      "[510, 1, 1, 0]\n",
      "0.6283185307179586\n",
      "Job Status: job has successfully run\n",
      "[510, 2, 0, 0]\n",
      "0.7853981633974483\n",
      "Job Status: job has successfully run\n",
      "[511, 1, 0, 0]\n",
      "0.9424777960769379\n",
      "Job Status: job has successfully run\n",
      "[512, 0, 0, 0]\n",
      "1.0995574287564276\n",
      "Job Status: job has successfully run\n",
      "[508, 3, 1, 0]\n",
      "1.2566370614359172\n",
      "Job Status: job has successfully run\n",
      "[512, 0, 0, 0]\n",
      "1.413716694115407\n",
      "Job Status: job has successfully run\n",
      "[512, 0, 0, 0]\n",
      "1.5707963267948966\n",
      "Job Status: job has successfully run\n",
      "[508, 0, 4, 0]\n",
      "[[510, 508, 509, 510, 510, 511, 512, 508, 512, 512, 508], [1, 2, 2, 1, 2, 1, 0, 3, 0, 0, 0], [1, 2, 1, 1, 0, 0, 0, 1, 0, 0, 4], [0, 0, 0, 0, 0, 0, 0, 0, 0, 0, 0]]\n"
     ]
    }
   ],
   "source": [
    "## run for strategy QQ\n",
    "\n",
    "shots = 100\n",
    "strategy = 'QQ'\n",
    "\n",
    "gamma_list = np.linspace(0,pi/2,11)\n",
    "QQ_result_list = []\n",
    "for gamma in gamma_list:\n",
    "    print(gamma)\n",
    "    tmp= prob_ionQ(gamma,shots,strategy)\n",
    "    print(tmp)\n",
    "    QQ_result_list.append(tmp)\n",
    "QQ_res = np.array(QQ_result_list).T.tolist()\n",
    "print(QQ_res)"
   ]
  },
  {
   "cell_type": "code",
   "execution_count": 13,
   "metadata": {},
   "outputs": [
    {
     "name": "stdout",
     "output_type": "stream",
     "text": [
      "0.0\n",
      "Job Status: job has successfully run\n",
      "[0, 7, 5, 500]\n",
      "0.15707963267948966\n",
      "Job Status: job has successfully run\n",
      "[0, 7, 7, 498]\n",
      "0.3141592653589793\n",
      "Job Status: job has successfully run\n",
      "[0, 4, 2, 506]\n",
      "0.47123889803846897\n",
      "Job Status: job has successfully run\n",
      "[0, 4, 12, 496]\n",
      "0.6283185307179586\n",
      "Job Status: job has successfully run\n",
      "[2, 3, 4, 503]\n",
      "0.7853981633974483\n",
      "Job Status: job has successfully run\n",
      "[0, 8, 4, 500]\n",
      "0.9424777960769379\n",
      "Job Status: job has successfully run\n",
      "[0, 5, 5, 502]\n",
      "1.0995574287564276\n",
      "Job Status: job has successfully run\n",
      "[1, 4, 12, 495]\n",
      "1.2566370614359172\n",
      "Job Status: job has successfully run\n",
      "[0, 7, 7, 498]\n",
      "1.413716694115407\n",
      "Job Status: job has successfully run\n",
      "[0, 2, 6, 504]\n",
      "1.5707963267948966\n",
      "Job Status: job has successfully run\n",
      "[0, 5, 4, 503]\n",
      "[[0, 0, 0, 0, 2, 0, 0, 1, 0, 0, 0], [7, 7, 4, 4, 3, 8, 5, 4, 7, 2, 5], [5, 7, 2, 12, 4, 4, 5, 12, 7, 6, 4], [500, 498, 506, 496, 503, 500, 502, 495, 498, 504, 503]]\n"
     ]
    }
   ],
   "source": [
    "## run for strategy DD\n",
    "shots = 100\n",
    "strategy = 'DD'\n",
    "\n",
    "gamma_list = np.linspace(0,pi/2,11)\n",
    "DD_result_list = []\n",
    "for gamma in gamma_list:\n",
    "    print(gamma)\n",
    "    tmp= prob_ionQ(gamma,shots,strategy)\n",
    "    print(tmp)\n",
    "    DD_result_list.append(tmp)\n",
    "DD_res = np.array(DD_result_list).T.tolist()\n",
    "print(DD_res)"
   ]
  },
  {
   "cell_type": "code",
   "execution_count": 41,
   "metadata": {},
   "outputs": [
    {
     "data": {
      "image/png": "[encoded data removed]",
      "text/plain": [
       "<Figure size 432x288 with 1 Axes>"
      ]
     },
     "metadata": {
      "needs_background": "light"
     },
     "output_type": "display_data"
    }
   ],
   "source": [
    "temp1= [x/512*3 for x in QQ_res[0]]; temp2= [x/512*5 for x in QQ_res[2]]\n",
    "QQ_final = [a + b for a, b in zip(temp1, temp2)]\n",
    "\n",
    "\n",
    "temp1= [x/512*3 for x in DD_res[0]]; temp2= [x/512*5 for x in DD_res[2]]; temp3= [x/512*1 for x in DD_res[3]]\n",
    "DD_final = [a + b+c for a, b, c in zip(temp1, temp2,temp3)]\n",
    "\n",
    "temp1= [x/512*3 for x in QD_res[0]]; temp2= [x/512*5 for x in QD_res[2]]; temp3= [x/512*1 for x in QD_res[3]]\n",
    "QD_final = [a + b+c for a, b, c in zip(temp1, temp2,temp3)]\n",
    "QD_final = [(6*3+1015*5+3*1)/1024] + QD_final\n",
    "\n",
    "temp1= [x/512*3 for x in QD_res[0]]; temp2= [x/512*5 for x in QD_res[1]]; temp3= [x/512*1 for x in QD_res[3]]\n",
    "DQ_final = [a + b+c for a, b, c in zip(temp1, temp2,temp3)]\n",
    "DQ_final = [(6*3+1015*0+3*1)/1024] + DQ_final\n",
    "\n",
    "plt.figure()\n",
    "plt.plot(gamma_list,QD_final,'.',label='QD')\n",
    "plt.plot(gamma_list,DQ_final,'.',label='DQ')\n",
    "plt.plot(gamma_list,QQ_final,'.',label='QQ')\n",
    "plt.plot(gamma_list,DD_final,'.',label='DD')\n",
    "plt.xlabel('gamma')\n",
    "plt.ylabel('Payoff')\n",
    "plt.legend();"
   ]
  },
  {
   "cell_type": "code",
   "execution_count": 38,
   "metadata": {},
   "outputs": [
    {
     "data": {
      "text/plain": [
       "[<matplotlib.lines.Line2D at 0x14a8d0390>]"
      ]
     },
     "execution_count": 38,
     "metadata": {},
     "output_type": "execute_result"
    },
    {
     "data": {
      "image/png": "[encoded data removed]",
      "text/plain": [
       "<Figure size 432x288 with 1 Axes>"
      ]
     },
     "metadata": {
      "needs_background": "light"
     },
     "output_type": "display_data"
    }
   ],
   "source": [
    "temp1= [x/512*3 for x in QD_res[0]]; temp2= [x/512*5 for x in QD_res[1]]; temp3= [x/512*1 for x in QD_res[3]]\n",
    "DQ_final = [a + b+c for a, b, c in zip(temp1, temp2,temp3)]\n",
    "DQ_final = [(6*3+1015*0+3*1)/1024] + DQ_final\n",
    "plt.figure()\n",
    "plt.plot(gamma_list,DQ_final,'.')"
   ]
  },
  {
   "cell_type": "markdown",
   "metadata": {},
   "source": [
    "## Finally we summarize and plot the results above"
   ]
  },
  {
   "cell_type": "code",
   "execution_count": 53,
   "metadata": {},
   "outputs": [
    {
     "data": {
      "image/png": "[encoded data removed]",
      "text/plain": [
       "<Figure size 576x432 with 1 Axes>"
      ]
     },
     "metadata": {
      "needs_background": "light"
     },
     "output_type": "display_data"
    }
   ],
   "source": [
    "QD_simu = np.array([5.0, 4.8, 4.4, 3.75, 2.9, 2.05, 1.25, 0.55, 0.15, 0.0])\n",
    "QQ_simu = np.array([3.0, 3.0, 3.0, 3.0, 3.0, 3.0, 3.0, 3.0, 3.0, 3.0])\n",
    "DD_simu = np.array([1.0, 1.0, 1.0, 1.0, 1.0, 1.0, 1.0, 1.0, 1.0, 1.0])\n",
    "DQ_simu = np.array([0.0,0.15,0.55,1.25,2.05,2.9,3.75,4.4,4.8,5.0])\n",
    "gamma_table_simu = np.pi/2*np.linspace(0,1,10)\n",
    "\n",
    "\n",
    "QQ_exp = np.array([2.99804688, 2.99609375, 2.9921875 , 2.99804688, 2.98828125,\n",
    "       2.99414062, 3.        , 2.98632812, 3.        , 3.        ,\n",
    "       3.015625  ]);      \n",
    "QD_exp = np.array([4.9765625 , 4.546875  , 4.06640625, 3.5859375 , 2.953125  ,\n",
    "       2.99414062, 2.1328125 , 1.46679688, 0.9921875 , 0.35351562,\n",
    "       0.01171875]);          \n",
    "DD_exp = np.array([1.02539062, 1.04101562, 1.0078125 , 1.0859375 , 1.03320312,\n",
    "       1.015625  , 1.02929688, 1.08984375, 1.04101562, 1.04296875,\n",
    "       1.02148438]);\n",
    "DQ_exp = np.array([0.02050781, 0.3671875 , 0.83398438, 1.21289062, 2.02539062,\n",
    "       1.95898438, 2.82617188, 3.52734375, 4.02929688, 4.66015625,\n",
    "       4.9921875 ])\n",
    "gamma_table = np.pi/2*np.linspace(0,1,11)\n",
    "\n",
    "\n",
    "\n",
    "plt.figure(figsize=(8,6))\n",
    "plt.plot(gamma_table_simu, QQ_simu,'r-',label=\"QQ Simu.\")\n",
    "plt.plot(gamma_table_simu, QD_simu,'g-',label=\"QD Simu.\")\n",
    "plt.plot(gamma_table_simu, DQ_simu,'m-',label=\"DQ Simu.\")\n",
    "plt.plot(gamma_table_simu, DD_simu,'b-',label=\"DD Simu.\")\n",
    "\n",
    "\n",
    "plt.plot(gamma_table, QQ_exp,'r^',label=\"QQ QPU\",markersize=8)\n",
    "plt.plot(gamma_table, QD_exp,'g^',label=\"QD QPU\",markersize=8)\n",
    "plt.plot(gamma_table, DQ_exp,'m^',label=\"DQ QPU\",markersize=8)\n",
    "plt.plot(gamma_table, DD_exp,'b^',label=\"DD QPU\",markersize=8)\n",
    "\n",
    "gamma_nash = np.linspace(0,np.arcsin(np.sqrt(1/5)),10)\n",
    "payoff_nash =np.array([1 for i in range(10)])\n",
    "gamma_nash_2 = np.linspace(np.arcsin(np.sqrt(1/5)),np.arcsin(np.sqrt(2/5)),8)\n",
    "payoff_nash_2 = 5*np.multiply(np.cos(gamma_nash_2),np.cos(gamma_nash_2))\n",
    "gamma_nash_3 = np.linspace(np.arcsin(np.sqrt(1/5)),np.arcsin(np.sqrt(2/5)),8)\n",
    "payoff_nash_3 = 5*np.multiply(np.sin(gamma_nash_2),np.sin(gamma_nash_2))\n",
    "gamma_nash_4 = np.linspace(np.arcsin(np.sqrt(2/5)),np.pi/2,20)\n",
    "payoff_nash_4 =np.array([3 for i in range(20)])\n",
    "plt.plot(gamma_nash, payoff_nash,'kx',label=\"Nash Equi\",markersize=12)\n",
    "plt.plot(gamma_nash_2, payoff_nash_2,'kx',markersize=8)\n",
    "plt.plot(gamma_nash_3, payoff_nash_3,'kx',markersize=8)\n",
    "plt.plot(gamma_nash_4, payoff_nash_4,'kx',markersize=8)\n",
    "\n",
    "\n",
    "plt.xlabel(r'$\\gamma$')\n",
    "plt.ylabel('Payoff for Bob')\n",
    "plt.title('Simulator (100 shot) and QPU data (512 shot)')\n",
    "plt.rcParams.update({'font.size': 20})\n",
    "plt.legend(loc=1,fontsize=10,ncol=3)\n",
    "plt.savefig('Alice_Bob_payoff.pdf')\n",
    "plt.show()\n"
   ]
  },
  {
   "cell_type": "code",
   "execution_count": null,
   "metadata": {},
   "outputs": [],
   "source": []
  }
 ],
 "metadata": {
  "kernelspec": {
   "display_name": "azurequantum",
   "language": "python",
   "name": "azurequantum"
  },
  "language_info": {
   "codemirror_mode": {
    "name": "ipython",
    "version": 3
   },
   "file_extension": ".py",
   "mimetype": "text/x-python",
   "name": "python",
   "nbconvert_exporter": "python",
   "pygments_lexer": "ipython3",
   "version": "3.7.12"
  }
 },
 "nbformat": 4,
 "nbformat_minor": 1
}
